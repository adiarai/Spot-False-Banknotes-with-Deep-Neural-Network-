{
 "cells": [
  {
   "cell_type": "markdown",
   "id": "7d7f6779",
   "metadata": {},
   "source": [
    "# Project: Deep Neural Network\n",
    "Identify false banknotes\n",
    "Step 1: Import libraries\n"
   ]
  },
  {
   "cell_type": "code",
   "execution_count": 2,
   "id": "9fff468d",
   "metadata": {},
   "outputs": [],
   "source": [
    "import pandas as pd \n",
    "from sklearn.model_selection import train_test_split\n",
    "from tensorflow.keras.layers import Dense \n",
    "from tensorflow.keras.models import Sequential "
   ]
  },
  {
   "cell_type": "markdown",
   "id": "52b1ed6e",
   "metadata": {},
   "source": [
    "# Step 2: Read the data\n",
    "Use Pandas read_csv method to read files/banknotes.csv"
   ]
  },
  {
   "cell_type": "code",
   "execution_count": 3,
   "id": "32731834",
   "metadata": {},
   "outputs": [
    {
     "data": {
      "text/html": [
       "<div>\n",
       "<style scoped>\n",
       "    .dataframe tbody tr th:only-of-type {\n",
       "        vertical-align: middle;\n",
       "    }\n",
       "\n",
       "    .dataframe tbody tr th {\n",
       "        vertical-align: top;\n",
       "    }\n",
       "\n",
       "    .dataframe thead th {\n",
       "        text-align: right;\n",
       "    }\n",
       "</style>\n",
       "<table border=\"1\" class=\"dataframe\">\n",
       "  <thead>\n",
       "    <tr style=\"text-align: right;\">\n",
       "      <th></th>\n",
       "      <th>variance</th>\n",
       "      <th>skewness</th>\n",
       "      <th>curtosis</th>\n",
       "      <th>entropy</th>\n",
       "      <th>class</th>\n",
       "    </tr>\n",
       "  </thead>\n",
       "  <tbody>\n",
       "    <tr>\n",
       "      <th>0</th>\n",
       "      <td>-0.89569</td>\n",
       "      <td>3.00250</td>\n",
       "      <td>-3.606700</td>\n",
       "      <td>-3.44570</td>\n",
       "      <td>1</td>\n",
       "    </tr>\n",
       "    <tr>\n",
       "      <th>1</th>\n",
       "      <td>3.47690</td>\n",
       "      <td>-0.15314</td>\n",
       "      <td>2.530000</td>\n",
       "      <td>2.44950</td>\n",
       "      <td>0</td>\n",
       "    </tr>\n",
       "    <tr>\n",
       "      <th>2</th>\n",
       "      <td>3.91020</td>\n",
       "      <td>6.06500</td>\n",
       "      <td>-2.453400</td>\n",
       "      <td>-0.68234</td>\n",
       "      <td>0</td>\n",
       "    </tr>\n",
       "    <tr>\n",
       "      <th>3</th>\n",
       "      <td>0.60731</td>\n",
       "      <td>3.95440</td>\n",
       "      <td>-4.772000</td>\n",
       "      <td>-4.48530</td>\n",
       "      <td>1</td>\n",
       "    </tr>\n",
       "    <tr>\n",
       "      <th>4</th>\n",
       "      <td>2.37180</td>\n",
       "      <td>7.49080</td>\n",
       "      <td>0.015989</td>\n",
       "      <td>-1.74140</td>\n",
       "      <td>0</td>\n",
       "    </tr>\n",
       "  </tbody>\n",
       "</table>\n",
       "</div>"
      ],
      "text/plain": [
       "   variance  skewness  curtosis  entropy  class\n",
       "0  -0.89569   3.00250 -3.606700 -3.44570      1\n",
       "1   3.47690  -0.15314  2.530000  2.44950      0\n",
       "2   3.91020   6.06500 -2.453400 -0.68234      0\n",
       "3   0.60731   3.95440 -4.772000 -4.48530      1\n",
       "4   2.37180   7.49080  0.015989 -1.74140      0"
      ]
     },
     "execution_count": 3,
     "metadata": {},
     "output_type": "execute_result"
    }
   ],
   "source": [
    "data=pd.read_csv(r'C:\\Users\\Adi\\Desktop\\Data science project\\Machine Learning Data Science\\MachineLearningWithPython-main\\jupyter\\starter\\files\\banknotes.csv')\n",
    "data.head()"
   ]
  },
  {
   "cell_type": "code",
   "execution_count": null,
   "id": "2a00aafb",
   "metadata": {},
   "outputs": [],
   "source": []
  },
  {
   "cell_type": "markdown",
   "id": "fcb5cf6d",
   "metadata": {},
   "source": [
    "# Step 3: Investitigate the data\n",
    "Check how many classes (class)\n",
    "HINT: use unique()\n",
    "Check for missing data\n",
    "HINT: use isna().sum()"
   ]
  },
  {
   "cell_type": "code",
   "execution_count": 4,
   "id": "68ddf17f",
   "metadata": {},
   "outputs": [
    {
     "data": {
      "text/plain": [
       "array([1, 0], dtype=int64)"
      ]
     },
     "execution_count": 4,
     "metadata": {},
     "output_type": "execute_result"
    }
   ],
   "source": [
    "data['class'].unique()"
   ]
  },
  {
   "cell_type": "code",
   "execution_count": 5,
   "id": "fc483c0f",
   "metadata": {},
   "outputs": [
    {
     "data": {
      "text/plain": [
       "variance    0\n",
       "skewness    0\n",
       "curtosis    0\n",
       "entropy     0\n",
       "class       0\n",
       "dtype: int64"
      ]
     },
     "execution_count": 5,
     "metadata": {},
     "output_type": "execute_result"
    }
   ],
   "source": [
    "data.isna().sum()"
   ]
  },
  {
   "cell_type": "markdown",
   "id": "0404aa5b",
   "metadata": {},
   "source": [
    "# Step 4: Divite data into feature vectors and labels\n",
    "Assign the feature vectors to \n",
    "HINT: that is all but the last column of the data\n",
    "Assign the labels to \n",
    "HINT: that is the last column (class)"
   ]
  },
  {
   "cell_type": "code",
   "execution_count": 7,
   "id": "30dc385d",
   "metadata": {},
   "outputs": [],
   "source": [
    "x=data.iloc[:,:-1]\n",
    "y=data.iloc[:,-1] "
   ]
  },
  {
   "cell_type": "code",
   "execution_count": 8,
   "id": "1e934b08",
   "metadata": {},
   "outputs": [
    {
     "data": {
      "text/html": [
       "<div>\n",
       "<style scoped>\n",
       "    .dataframe tbody tr th:only-of-type {\n",
       "        vertical-align: middle;\n",
       "    }\n",
       "\n",
       "    .dataframe tbody tr th {\n",
       "        vertical-align: top;\n",
       "    }\n",
       "\n",
       "    .dataframe thead th {\n",
       "        text-align: right;\n",
       "    }\n",
       "</style>\n",
       "<table border=\"1\" class=\"dataframe\">\n",
       "  <thead>\n",
       "    <tr style=\"text-align: right;\">\n",
       "      <th></th>\n",
       "      <th>variance</th>\n",
       "      <th>skewness</th>\n",
       "      <th>curtosis</th>\n",
       "      <th>entropy</th>\n",
       "    </tr>\n",
       "  </thead>\n",
       "  <tbody>\n",
       "    <tr>\n",
       "      <th>0</th>\n",
       "      <td>-0.89569</td>\n",
       "      <td>3.00250</td>\n",
       "      <td>-3.606700</td>\n",
       "      <td>-3.44570</td>\n",
       "    </tr>\n",
       "    <tr>\n",
       "      <th>1</th>\n",
       "      <td>3.47690</td>\n",
       "      <td>-0.15314</td>\n",
       "      <td>2.530000</td>\n",
       "      <td>2.44950</td>\n",
       "    </tr>\n",
       "    <tr>\n",
       "      <th>2</th>\n",
       "      <td>3.91020</td>\n",
       "      <td>6.06500</td>\n",
       "      <td>-2.453400</td>\n",
       "      <td>-0.68234</td>\n",
       "    </tr>\n",
       "    <tr>\n",
       "      <th>3</th>\n",
       "      <td>0.60731</td>\n",
       "      <td>3.95440</td>\n",
       "      <td>-4.772000</td>\n",
       "      <td>-4.48530</td>\n",
       "    </tr>\n",
       "    <tr>\n",
       "      <th>4</th>\n",
       "      <td>2.37180</td>\n",
       "      <td>7.49080</td>\n",
       "      <td>0.015989</td>\n",
       "      <td>-1.74140</td>\n",
       "    </tr>\n",
       "  </tbody>\n",
       "</table>\n",
       "</div>"
      ],
      "text/plain": [
       "   variance  skewness  curtosis  entropy\n",
       "0  -0.89569   3.00250 -3.606700 -3.44570\n",
       "1   3.47690  -0.15314  2.530000  2.44950\n",
       "2   3.91020   6.06500 -2.453400 -0.68234\n",
       "3   0.60731   3.95440 -4.772000 -4.48530\n",
       "4   2.37180   7.49080  0.015989 -1.74140"
      ]
     },
     "execution_count": 8,
     "metadata": {},
     "output_type": "execute_result"
    }
   ],
   "source": [
    "x.head()"
   ]
  },
  {
   "cell_type": "code",
   "execution_count": 9,
   "id": "201136a0",
   "metadata": {},
   "outputs": [
    {
     "data": {
      "text/plain": [
       "0    1\n",
       "1    0\n",
       "2    0\n",
       "3    1\n",
       "4    0\n",
       "Name: class, dtype: int64"
      ]
     },
     "execution_count": 9,
     "metadata": {},
     "output_type": "execute_result"
    }
   ],
   "source": [
    "y.head()"
   ]
  },
  {
   "cell_type": "markdown",
   "id": "cfa575d9",
   "metadata": {},
   "source": [
    "# Step 5: Create training and test datasets\n",
    "Split \n",
    " and \n",
    " into train and test sets using train_test_split with test_size=.4"
   ]
  },
  {
   "cell_type": "code",
   "execution_count": 10,
   "id": "c0c7a181",
   "metadata": {},
   "outputs": [],
   "source": [
    "x_train,x_test,y_train,y_test=train_test_split(x,y,test_size=.4,random_state=42)"
   ]
  },
  {
   "cell_type": "code",
   "execution_count": null,
   "id": "b97afbcd",
   "metadata": {},
   "outputs": [],
   "source": []
  },
  {
   "cell_type": "markdown",
   "id": "5905d185",
   "metadata": {},
   "source": [
    "# Step 6: Create and compile the model\n",
    "Create a Sequential model\n",
    "Dense with 8 nodes with input_dim=4, activaition='relu'\n",
    "Dense with 1 (the output node) with activaition='sigmoid'\n",
    "Complie the model with optimizer='adam', loss='binary_crossentropy', metrics=['accuracy']"
   ]
  },
  {
   "cell_type": "code",
   "execution_count": 11,
   "id": "d796320f",
   "metadata": {},
   "outputs": [],
   "source": [
    "model=Sequential() \n",
    "model.add(Dense(8,input_dim=4,activation='relu'))\n",
    "model.add(Dense(1,activation='sigmoid'))\n",
    "\n",
    "model.compile(optimizer='adam', loss='binary_crossentropy', metrics=['accuracy'])\n"
   ]
  },
  {
   "cell_type": "code",
   "execution_count": null,
   "id": "afa428ef",
   "metadata": {},
   "outputs": [],
   "source": []
  },
  {
   "cell_type": "markdown",
   "id": "424b0804",
   "metadata": {},
   "source": [
    "# Step 7: Fit and test the accuracy\n",
    "Fit the model on training data with epochs=20\n",
    "Evaluate the model with test data with verbose=2"
   ]
  },
  {
   "cell_type": "code",
   "execution_count": 12,
   "id": "fa745d73",
   "metadata": {},
   "outputs": [
    {
     "name": "stdout",
     "output_type": "stream",
     "text": [
      "Epoch 1/20\n",
      "26/26 [==============================] - 2s 4ms/step - loss: 0.9383 - accuracy: 0.3062\n",
      "Epoch 2/20\n",
      "26/26 [==============================] - 0s 4ms/step - loss: 0.8316 - accuracy: 0.3220\n",
      "Epoch 3/20\n",
      "26/26 [==============================] - 0s 3ms/step - loss: 0.7469 - accuracy: 0.4095\n",
      "Epoch 4/20\n",
      "26/26 [==============================] - 0s 3ms/step - loss: 0.6810 - accuracy: 0.5419\n",
      "Epoch 5/20\n",
      "26/26 [==============================] - 0s 4ms/step - loss: 0.6279 - accuracy: 0.6731\n",
      "Epoch 6/20\n",
      "26/26 [==============================] - 0s 3ms/step - loss: 0.5851 - accuracy: 0.7655\n",
      "Epoch 7/20\n",
      "26/26 [==============================] - 0s 4ms/step - loss: 0.5468 - accuracy: 0.8238\n",
      "Epoch 8/20\n",
      "26/26 [==============================] - 0s 3ms/step - loss: 0.5113 - accuracy: 0.8591\n",
      "Epoch 9/20\n",
      "26/26 [==============================] - 0s 3ms/step - loss: 0.4763 - accuracy: 0.8919\n",
      "Epoch 10/20\n",
      "26/26 [==============================] - 0s 3ms/step - loss: 0.4409 - accuracy: 0.9162\n",
      "Epoch 11/20\n",
      "26/26 [==============================] - 0s 3ms/step - loss: 0.4047 - accuracy: 0.9247\n",
      "Epoch 12/20\n",
      "26/26 [==============================] - 0s 3ms/step - loss: 0.3686 - accuracy: 0.9392\n",
      "Epoch 13/20\n",
      "26/26 [==============================] - 0s 3ms/step - loss: 0.3340 - accuracy: 0.9490\n",
      "Epoch 14/20\n",
      "26/26 [==============================] - 0s 3ms/step - loss: 0.3014 - accuracy: 0.9550\n",
      "Epoch 15/20\n",
      "26/26 [==============================] - 0s 3ms/step - loss: 0.2709 - accuracy: 0.9611\n",
      "Epoch 16/20\n",
      "26/26 [==============================] - 0s 3ms/step - loss: 0.2437 - accuracy: 0.9611\n",
      "Epoch 17/20\n",
      "26/26 [==============================] - 0s 4ms/step - loss: 0.2195 - accuracy: 0.9660\n",
      "Epoch 18/20\n",
      "26/26 [==============================] - 0s 4ms/step - loss: 0.1983 - accuracy: 0.9733\n",
      "Epoch 19/20\n",
      "26/26 [==============================] - 0s 3ms/step - loss: 0.1796 - accuracy: 0.9757\n",
      "Epoch 20/20\n",
      "26/26 [==============================] - 0s 4ms/step - loss: 0.1632 - accuracy: 0.9769\n",
      "18/18 - 0s - loss: 0.1530 - accuracy: 0.9763 - 486ms/epoch - 27ms/step\n"
     ]
    },
    {
     "data": {
      "text/plain": [
       "[0.15295279026031494, 0.9763205647468567]"
      ]
     },
     "execution_count": 12,
     "metadata": {},
     "output_type": "execute_result"
    }
   ],
   "source": [
    "model.fit(x_train,y_train,epochs=20)\n",
    "model.evaluate(x_test,y_test,verbose=2)\n"
   ]
  },
  {
   "cell_type": "code",
   "execution_count": null,
   "id": "37f9c207",
   "metadata": {},
   "outputs": [],
   "source": []
  },
  {
   "cell_type": "markdown",
   "id": "9ea70b40",
   "metadata": {},
   "source": [
    "# Step 8 (Optional): Add another hidden layer\n",
    "Add another hidden layer in the model\n",
    "Test performance"
   ]
  },
  {
   "cell_type": "code",
   "execution_count": null,
   "id": "885ff060",
   "metadata": {},
   "outputs": [],
   "source": []
  }
 ],
 "metadata": {
  "kernelspec": {
   "display_name": "Python 3 (ipykernel)",
   "language": "python",
   "name": "python3"
  },
  "language_info": {
   "codemirror_mode": {
    "name": "ipython",
    "version": 3
   },
   "file_extension": ".py",
   "mimetype": "text/x-python",
   "name": "python",
   "nbconvert_exporter": "python",
   "pygments_lexer": "ipython3",
   "version": "3.9.13"
  },
  "varInspector": {
   "cols": {
    "lenName": 16,
    "lenType": 16,
    "lenVar": 40
   },
   "kernels_config": {
    "python": {
     "delete_cmd_postfix": "",
     "delete_cmd_prefix": "del ",
     "library": "var_list.py",
     "varRefreshCmd": "print(var_dic_list())"
    },
    "r": {
     "delete_cmd_postfix": ") ",
     "delete_cmd_prefix": "rm(",
     "library": "var_list.r",
     "varRefreshCmd": "cat(var_dic_list()) "
    }
   },
   "types_to_exclude": [
    "module",
    "function",
    "builtin_function_or_method",
    "instance",
    "_Feature"
   ],
   "window_display": false
  }
 },
 "nbformat": 4,
 "nbformat_minor": 5
}
